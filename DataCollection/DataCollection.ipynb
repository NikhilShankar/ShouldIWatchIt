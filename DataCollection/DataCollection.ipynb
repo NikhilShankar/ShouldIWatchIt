{
 "cells": [
  {
   "cell_type": "markdown",
   "metadata": {},
   "source": [
    "#### **Data Collection**"
   ]
  },
  {
   "cell_type": "markdown",
   "metadata": {},
   "source": [
    "- We will be getting the data from youtube video and comments wil be used to predict whether the movie is hit flop or average.\n"
   ]
  },
  {
   "cell_type": "code",
   "execution_count": 3,
   "metadata": {},
   "outputs": [],
   "source": [
    "from itertools import islice\n",
    "from youtube_comment_downloader import *\n",
    "import pandas as pd\n",
    "from datetime import datetime\n",
    "import os\n",
    "\n",
    "exit = \"Y\"\n",
    "downloader = YoutubeCommentDownloader()\n",
    "while exit == \"Y\":\n",
    "    movieName = input(\"Enter movie name\")\n",
    "    imdbRating = input(\"Enter imdb rating\")\n",
    "    link = input(\"Enter youtube link\")\n",
    "    comments = downloader.get_comments_from_url(link, sort_by=SORT_BY_POPULAR)\n",
    "    df = pd.DataFrame(comments)\n",
    "    df['Movie Name'] = movieName\n",
    "    df['Imdb Rating'] = imdbRating\n",
    "    df.rename(columns={'text': 'Comment'}, inplace=True)\n",
    "    # Create the new folder if it doesn't exist\n",
    "    os.makedirs(\"../datastore\", exist_ok=True)\n",
    "    timestamp = datetime.now().strftime('%Y-%m-%d_%H-%M-%S')\n",
    "    filename = f\"../datastore/{movieName}-{timestamp}.csv\"\n",
    "    df.to_csv(filename, index=False)\n",
    "    exit = input(\"Press Y to continue\")\n",
    "\n",
    "\n",
    "\n",
    "\n",
    "\n"
   ]
  },
  {
   "cell_type": "markdown",
   "metadata": {},
   "source": [
    "#### **Data Combiner**"
   ]
  },
  {
   "cell_type": "code",
   "execution_count": 4,
   "metadata": {},
   "outputs": [
    {
     "name": "stdout",
     "output_type": "stream",
     "text": [
      "Skipping file TheFallGuy-2024-12-08_18-59-10.csv: Required columns not found.\n",
      "Combined data saved to ../datastore\\CombinedDataset-2024-12-08_21-28-57\\combined_comments.csv\n"
     ]
    }
   ],
   "source": [
    "# Usage Example\n",
    "from DataCombiner import CSVParser\n",
    "\n",
    "folder_path = '../datastore'\n",
    "csv_parser = CSVParser(folder_path)\n",
    "csv_parser.parse_csv_files()  # Parse the CSV files\n",
    "csv_parser.save_combined_data()  # Save the combined data"
   ]
  }
 ],
 "metadata": {
  "kernelspec": {
   "display_name": "tensorflow_cpu",
   "language": "python",
   "name": "python3"
  },
  "language_info": {
   "codemirror_mode": {
    "name": "ipython",
    "version": 3
   },
   "file_extension": ".py",
   "mimetype": "text/x-python",
   "name": "python",
   "nbconvert_exporter": "python",
   "pygments_lexer": "ipython3",
   "version": "3.11.0"
  }
 },
 "nbformat": 4,
 "nbformat_minor": 2
}
